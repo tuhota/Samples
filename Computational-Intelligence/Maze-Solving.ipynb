{
 "cells": [
  {
   "cell_type": "markdown",
   "id": "cb77a8a4",
   "metadata": {},
   "source": [
    "#### Step 1: Import libraries:\n",
    "Here, libraries are imported to provide functional capability to the program."
   ]
  },
  {
   "cell_type": "code",
   "execution_count": 1,
   "id": "a890f698",
   "metadata": {},
   "outputs": [],
   "source": [
    "#allows for the lists to be represented graphically\n",
    "import matplotlib.pyplot as plt\n",
    "#assists in generating a 'moving' image in output\n",
    "from IPython.display import clear_output\n",
    "#allows for copying the maze by value\n",
    "import copy\n",
    "#enables the timing of functions, to analyse performance\n",
    "import time"
   ]
  },
  {
   "cell_type": "markdown",
   "id": "b69dbeb1",
   "metadata": {},
   "source": [
    "#### Step 2: Pre-process mazes from file to list\n",
    "Here, the mazes are read from a txt file, where * is the start, _ are spaces, '#' are walls and ! is the end. The particular maze to solve is selected by uncommenting it and executing."
   ]
  },
  {
   "cell_type": "code",
   "execution_count": 2,
   "id": "af876c0c",
   "metadata": {},
   "outputs": [],
   "source": [
    "#file = \"maze16.txt\"\n",
    "#file = \"maze64.txt\"\n",
    "#file = \"maze100.txt\"\n",
    "file = \"maze256.txt\"\n",
    "\n",
    "#declare the maze, represented as a list\n",
    "maze = []\n",
    "\n",
    "#define the index of the start and end of the maze\n",
    "start = None\n",
    "end = None\n",
    "\n",
    "#interprets the txt file, iterates over and assigns to maze list\n",
    "with open(file, 'r') as file:\n",
    "    for i, line in enumerate(file):\n",
    "        line = line.rstrip()\n",
    "        row = []\n",
    "        \n",
    "        for j,k in enumerate(line):\n",
    "            # '*' = start \n",
    "            if k == '*':\n",
    "                start = (i,j)\n",
    "                row.append(0)\n",
    "            # '!' = end \n",
    "            elif k == '!':\n",
    "                end = (i,j) \n",
    "                row.append(0)\n",
    "            # '#' = wall\n",
    "            elif k == '#':\n",
    "                row.append(1) \n",
    "            # '_' = space\n",
    "            else:\n",
    "                row.append(0) \n",
    "        maze.append(row)"
   ]
  },
  {
   "cell_type": "markdown",
   "id": "6601f02c",
   "metadata": {},
   "source": [
    "#### Step 3: Declare global variables\n",
    "Here, variables are declared for easy access to tweak the execution."
   ]
  },
  {
   "cell_type": "code",
   "execution_count": 3,
   "id": "c043feac",
   "metadata": {},
   "outputs": [],
   "source": [
    "#defines speed of 'animation' when solving maze in seconds\n",
    "speed = 0.5\n",
    "#display size of plots\n",
    "display_size = 4"
   ]
  },
  {
   "cell_type": "markdown",
   "id": "ce3a5679",
   "metadata": {},
   "source": [
    "#### Step 4: Declare functions, DFS implementation\n",
    "Here functions are declaring and setup is undertaken to solve the maze, while displaying its actions graphically."
   ]
  },
  {
   "cell_type": "code",
   "execution_count": 4,
   "id": "584f4b22",
   "metadata": {},
   "outputs": [],
   "source": [
    "#analyses the value above, below, left and right of the current index to determine if it is a wall or space\n",
    "#returns True if space, returns False in all other cases\n",
    "def open_space(maze, current, face):\n",
    "    #maximum index able to be referenced by functions\n",
    "    dim = len(maze) - 1\n",
    "\n",
    "    if face == 'e': \n",
    "        if current[1] == dim: return False\n",
    "        if maze[current[0]][current[1] + 1] == 0: return True\n",
    "        else: return False\n",
    "    elif face == 's': \n",
    "        if current[0] == dim: return False\n",
    "        if maze[current[0] + 1][current[1]] == 0: return True\n",
    "        else: return False\n",
    "    elif face == 'n': \n",
    "        if current[0] == 0: return False\n",
    "        if maze[current[0] - 1][current[1]] == 0: return True\n",
    "        else: return False\n",
    "    elif face == 'w': \n",
    "        if current[1] == 0: return False\n",
    "        if maze[current[0]][current[1] - 1] == 0: return True\n",
    "        else: return False"
   ]
  },
  {
   "cell_type": "code",
   "execution_count": 5,
   "id": "7c08adfe",
   "metadata": {},
   "outputs": [],
   "source": [
    "#defines temporary maze, for use with pyplot, enables different colouring of start, end, path and visited nodes\n",
    "temp_maze = copy.deepcopy(maze)\n",
    "temp_maze[start[0]][start[1]] = 3;\n",
    "temp_maze[end[0]][end[1]] = 4;"
   ]
  },
  {
   "cell_type": "code",
   "execution_count": 6,
   "id": "7143a39b",
   "metadata": {},
   "outputs": [],
   "source": [
    "#defines the explored set, which contains all nodes visited able to be referenced beyond the scope of dfs function\n",
    "explored = set()"
   ]
  },
  {
   "cell_type": "code",
   "execution_count": 7,
   "id": "23e8741b",
   "metadata": {},
   "outputs": [],
   "source": [
    "#solves maze and returns the final obtained path while displaying step by step working\n",
    "def dfs(maze):\n",
    "    #declare dict used to store the parent node\n",
    "    #path = dict()\n",
    "    parent = dict()\n",
    "    \n",
    "    #initialises the algorithm at starting index\n",
    "    frontier = [start]\n",
    "    parent[start]=start\n",
    "    \n",
    "    child = None\n",
    "    \n",
    "    #continue until solved or no path available\n",
    "    while(len(frontier) > 0):\n",
    "        #get current index from frontier\n",
    "        current = frontier.pop()\n",
    "        \n",
    "        #output graph of maze showing current index and visited nodes\n",
    "        clear_output(wait=True)\n",
    "        temp_maze[current[0]][current[1]] = 2;  # \n",
    "        fig,ax = plt.subplots(figsize=(display_size, display_size)) \n",
    "        ax.pcolormesh(temp_maze)\n",
    "        ax.set_xticks([])\n",
    "        ax.set_yticks([])\n",
    "        ax.set_aspect('equal')\n",
    "        ax.invert_yaxis()\n",
    "        plt.show()\n",
    "        \n",
    "        #wait between iterations\n",
    "        time.sleep(speed)\n",
    "        \n",
    "        #break loop if endpoint found\n",
    "        if current == end:\n",
    "            break\n",
    "            \n",
    "        #iterate over each cardinal direction c to determine possible moves\n",
    "        for c in 'esnw':\n",
    "            if open_space(maze, current, c) == True:\n",
    "                if c == 'e':\n",
    "                    child = (current[0], current[1] + 1)\n",
    "                elif c == 's':\n",
    "                    child = (current[0] + 1, current[1])\n",
    "                elif c == 'n':\n",
    "                    child = (current[0] - 1, current[1])\n",
    "                elif c == 'w':\n",
    "                    child = (current[0], current[1] - 1)\n",
    "                #if node already visited, ignore\n",
    "                if child in explored:\n",
    "                    continue\n",
    "                #else, add to explored set, parent dict and frontier\n",
    "                explored.add(child)\n",
    "                parent[child] = current\n",
    "                frontier.append(child)\n",
    "    \n",
    "    #get final path from parent dict\n",
    "    p = end\n",
    "    path = list()\n",
    "    path = [p]\n",
    "    while p != start:\n",
    "        p = parent[p]\n",
    "        path.append(p)\n",
    "    \n",
    "    #output total nodes seen, return final path\n",
    "    print(\"Nodes visited: \" + str(len(explored)))\n",
    "    path.reverse()\n",
    "    return path"
   ]
  },
  {
   "cell_type": "markdown",
   "id": "6c4a316a",
   "metadata": {},
   "source": [
    "#### Step 5: Execute search and get evaluation metrics\n",
    "The maze is searched for end index, time taken to execute recorded with total nodes visited."
   ]
  },
  {
   "cell_type": "code",
   "execution_count": 8,
   "id": "ba96f489",
   "metadata": {
    "scrolled": true
   },
   "outputs": [
    {
     "data": {
      "image/png": "[encoded data removed]",
      "text/plain": [
       "<Figure size 400x400 with 1 Axes>"
      ]
     },
     "metadata": {},
     "output_type": "display_data"
    },
    {
     "name": "stdout",
     "output_type": "stream",
     "text": [
      "Nodes visited: 117\n",
      "Elapsed time: 60.19373655319214\n"
     ]
    },
    {
     "data": {
      "text/plain": [
       "'Final path: [(0, 0), (0, 1), (0, 2), (0, 3), (1, 3), (1, 4), (2, 4), (3, 4), (3, 3), (3, 2), (3, 1), (3, 0), (4, 0), (5, 0), (6, 0), (7, 0), (8, 0), (8, 1), (8, 2), (9, 2), (10, 2), (11, 2), (11, 3), (11, 4), (11, 5), (12, 5), (12, 6), (12, 7), (11, 7), (11, 8), (11, 9), (11, 10), (11, 11), (11, 12), (11, 13), (11, 14), (11, 15), (12, 15), (13, 15), (14, 15), (15, 15)]'"
      ]
     },
     "execution_count": 8,
     "metadata": {},
     "output_type": "execute_result"
    }
   ],
   "source": [
    "#begin timing serial\n",
    "begin = time.time()\n",
    "line = dfs(maze)\n",
    "#end timing serial\n",
    "stop = time.time()\n",
    "#display time taken to execute dfs and final path\n",
    "print(\"Elapsed time: \" + str(stop - begin))\n",
    "\"Final path: \" + str(line)"
   ]
  },
  {
   "cell_type": "markdown",
   "id": "16dfcc66",
   "metadata": {},
   "source": [
    "#### Step 6: Display final results\n",
    "The results of the algorithm are displayed"
   ]
  },
  {
   "cell_type": "code",
   "execution_count": 9,
   "id": "6af41218",
   "metadata": {},
   "outputs": [],
   "source": [
    "#copy maze for displaying final path and all visited nodes\n",
    "final_path = copy.deepcopy(maze)\n",
    "all_nodes = copy.deepcopy(maze)"
   ]
  },
  {
   "cell_type": "code",
   "execution_count": 10,
   "id": "37833882",
   "metadata": {},
   "outputs": [
    {
     "name": "stdout",
     "output_type": "stream",
     "text": [
      "Green: Start\n",
      "Yellow: End\n",
      "Aqua: Visited\n",
      "Purple: Empty\n"
     ]
    },
    {
     "data": {
      "image/png": "[encoded data removed]",
      "text/plain": [
       "<Figure size 400x400 with 2 Axes>"
      ]
     },
     "metadata": {},
     "output_type": "display_data"
    }
   ],
   "source": [
    "#highlight the start, end and visited nodes in both copied mazes\n",
    "for a in line:\n",
    "    final_path[a[0]][a[1]] = 2\n",
    "final_path[start[0]][start[1]] = 3\n",
    "final_path[end[0]][end[1]] = 4\n",
    "for a in explored:\n",
    "    all_nodes[a[0]][a[1]] = 2\n",
    "all_nodes[start[0]][start[1]] = 3\n",
    "all_nodes[end[0]][end[1]] = 4\n",
    "\n",
    "#display mazes with highlights applied\n",
    "fig,ax = plt.subplots(1,2,figsize=(display_size, display_size))   \n",
    "ax[0].pcolormesh(all_nodes)\n",
    "ax[0].set_xticks([])\n",
    "ax[0].set_yticks([])\n",
    "ax[0].set_aspect('equal')\n",
    "ax[0].invert_yaxis()\n",
    "ax[0].set_title(\"Nodes visited\")\n",
    "\n",
    "ax[1].pcolormesh(final_path)\n",
    "ax[1].set_xticks([])\n",
    "ax[1].set_yticks([])\n",
    "ax[1].set_aspect('equal')\n",
    "ax[1].invert_yaxis()\n",
    "ax[1].set_title(\"Final path\")\n",
    "\n",
    "#graph legend\n",
    "print(\"Green: Start\\nYellow: End\\nAqua: Visited\\nPurple: Empty\")"
   ]
  }
 ],
 "metadata": {
  "kernelspec": {
   "display_name": "Python 3 (ipykernel)",
   "language": "python",
   "name": "python3"
  },
  "language_info": {
   "codemirror_mode": {
    "name": "ipython",
    "version": 3
   },
   "file_extension": ".py",
   "mimetype": "text/x-python",
   "name": "python",
   "nbconvert_exporter": "python",
   "pygments_lexer": "ipython3",
   "version": "3.11.4"
  }
 },
 "nbformat": 4,
 "nbformat_minor": 5
}
